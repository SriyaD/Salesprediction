{
  "nbformat": 4,
  "nbformat_minor": 0,
  "metadata": {
    "colab": {
      "name": "Salesprediction.ipynb",
      "provenance": [],
      "collapsed_sections": []
    },
    "kernelspec": {
      "name": "python3",
      "display_name": "Python 3"
    },
    "language_info": {
      "name": "python"
    }
  },
  "cells": [
    {
      "cell_type": "code",
      "metadata": {
        "id": "HUv54ls60JUc"
      },
      "source": [
        "import pandas as pd #used for loading dataset\n",
        "import numpy as np #to perform array"
      ],
      "execution_count": 1,
      "outputs": []
    },
    {
      "cell_type": "markdown",
      "metadata": {
        "id": "ju2r5upE0ri1"
      },
      "source": [
        "Chose data set from file directory\n"
      ]
    },
    {
      "cell_type": "code",
      "metadata": {
        "id": "u7M37Gn40gwJ"
      },
      "source": [
        "from google.colab import files\n",
        "uploaded=files.upload()"
      ],
      "execution_count": null,
      "outputs": []
    },
    {
      "cell_type": "markdown",
      "metadata": {
        "id": "xj4m4Evk1PWJ"
      },
      "source": [
        "Load dataset\n"
      ]
    },
    {
      "cell_type": "code",
      "metadata": {
        "id": "1XigIrqe1Stq"
      },
      "source": [
        "dataset=pd.read_csv('DigitalAd_dataset.csv')"
      ],
      "execution_count": 3,
      "outputs": []
    },
    {
      "cell_type": "markdown",
      "metadata": {
        "id": "tp4nGkEz1nAr"
      },
      "source": [
        "Summarize dataset"
      ]
    },
    {
      "cell_type": "code",
      "metadata": {
        "id": "jmnwSSRC1tIZ"
      },
      "source": [
        "print(dataset.shape)\n",
        "print(dataset.head(5))"
      ],
      "execution_count": null,
      "outputs": []
    },
    {
      "cell_type": "markdown",
      "metadata": {
        "id": "7FPZozgF18Vo"
      },
      "source": [
        "Segregate dataset into X(input/independent vaeriable) && Y(output/Dependent variable)"
      ]
    },
    {
      "cell_type": "code",
      "metadata": {
        "id": "BP4darXz2HRm"
      },
      "source": [
        "x=dataset.iloc[:,:-1].values\n",
        "x"
      ],
      "execution_count": null,
      "outputs": []
    },
    {
      "cell_type": "code",
      "metadata": {
        "id": "CHjhczl93N2D"
      },
      "source": [
        "y=dataset.iloc[:,-1].values\n",
        "y"
      ],
      "execution_count": null,
      "outputs": []
    },
    {
      "cell_type": "code",
      "metadata": {
        "id": "3Gt-lrED32OP"
      },
      "source": [
        "Splitting dataset into training and testing"
      ],
      "execution_count": null,
      "outputs": []
    },
    {
      "cell_type": "code",
      "metadata": {
        "id": "U7-BVpFY3-tG"
      },
      "source": [
        "from sklearn.model_selection import train_test_split\n",
        "x_train,x_test,y_train,y_test = train_test_split(x,y,test_size=0.25,random_state=0)"
      ],
      "execution_count": 10,
      "outputs": []
    },
    {
      "cell_type": "markdown",
      "metadata": {
        "id": "YRpV8tQT4s8L"
      },
      "source": [
        "### Feature scaling\n",
        "we scale our data to make all the features contribute equally to the result\n",
        "\n",
        "Fit_transform - fit method is calculating the mean and variance of each of the dfeatures present in our data\n",
        "\n",
        "Transform - Transform method transforms all the features using respective mean and variance\n",
        "\n",
        "We want our test data to be a completely new and a surprise set for our model"
      ]
    },
    {
      "cell_type": "code",
      "metadata": {
        "id": "eiPfSoiK5eSA"
      },
      "source": [
        "from sklearn.preprocessing import StandardScaler\n",
        "sc=StandardScaler()\n",
        "x_train = sc.fit_transform(x_train)\n",
        "x_test = sc.transform(x_test)"
      ],
      "execution_count": 12,
      "outputs": []
    },
    {
      "cell_type": "markdown",
      "metadata": {
        "id": "ZEK_0u787NdZ"
      },
      "source": [
        "Training"
      ]
    },
    {
      "cell_type": "code",
      "metadata": {
        "id": "BI_pNJCb7Oub"
      },
      "source": [
        "from sklearn.linear_model import LogisticRegression\n",
        "model = LogisticRegression(random_state=0)\n",
        "model.fit(x_train,y_train)"
      ],
      "execution_count": null,
      "outputs": []
    },
    {
      "cell_type": "markdown",
      "metadata": {
        "id": "cnaQuJOR7-_C"
      },
      "source": [
        "Predicting with new customer Age & Salary will buy or not\n",
        "\n"
      ]
    },
    {
      "cell_type": "code",
      "metadata": {
        "id": "7wsgFdAA8GxW"
      },
      "source": [
        "age=int(input(\"Enter new customer age\"))\n",
        "sal=int(input(\"Enter the customer salary\"))\n",
        "newCust= [[age,sal]]\n",
        "result=model.predict(sc.transform(newCust))\n",
        "print(result)\n",
        "if(result==1):\n",
        "  print(\"Customer will buy\")\n",
        "else:\n",
        "  print(\"Customer will not buy\")\n"
      ],
      "execution_count": null,
      "outputs": []
    },
    {
      "cell_type": "markdown",
      "metadata": {
        "id": "HBhUcbMG34r3"
      },
      "source": [
        "prediction for all test data\n"
      ]
    },
    {
      "cell_type": "code",
      "metadata": {
        "id": "xRhFTIFI9WZp"
      },
      "source": [
        "y_pred=model.predict(x_test)\n",
        "print(np.concatenate((y_pred.reshape(len(y_pred),1),y_test.reshape(len(y_test),1)),1))"
      ],
      "execution_count": null,
      "outputs": []
    },
    {
      "cell_type": "markdown",
      "metadata": {
        "id": "sKcQZBEl-c0-"
      },
      "source": [
        "Accuracy : confusion matrix\n",
        "\n",
        "Accuracy=(TP+TN)/(TP+TN+FP+FN)"
      ]
    },
    {
      "cell_type": "code",
      "metadata": {
        "id": "_qDKqn0--m5m"
      },
      "source": [
        "from sklearn.metrics import confusion_matrix,accuracy_score\n",
        "cm=confusion_matrix(y_test,y_pred)\n",
        "print(\"Confusion matrix\")\n",
        "print(cm)\n",
        "print(\"Accuracy of the model : {0}%\".format(accuracy_score(y_test,y_pred)*100))"
      ],
      "execution_count": null,
      "outputs": []
    }
  ]
}